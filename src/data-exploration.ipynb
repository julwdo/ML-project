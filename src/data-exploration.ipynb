{
 "cells": [
  {
   "cell_type": "code",
   "execution_count": 2,
   "metadata": {},
   "outputs": [],
   "source": [
    "import os\n",
    "import pandas as pd"
   ]
  },
  {
   "cell_type": "code",
   "execution_count": null,
   "metadata": {},
   "outputs": [],
   "source": [
    "os.getcwd()"
   ]
  },
  {
   "cell_type": "code",
   "execution_count": null,
   "metadata": {},
   "outputs": [],
   "source": [
    "mushrooms = pd.read_csv('../data/secondary_data.csv', delimiter = ';')\n",
    "mushrooms.head()"
   ]
  },
  {
   "cell_type": "code",
   "execution_count": null,
   "metadata": {},
   "outputs": [],
   "source": [
    "mushrooms.dtypes"
   ]
  },
  {
   "cell_type": "code",
   "execution_count": null,
   "metadata": {},
   "outputs": [],
   "source": [
    "n_rows = mushrooms.shape[0]\n",
    "n_columns = mushrooms.shape[1]\n",
    "\n",
    "print(f'There are {n_rows} rows and {n_columns} columns.')"
   ]
  },
  {
   "cell_type": "code",
   "execution_count": null,
   "metadata": {},
   "outputs": [],
   "source": [
    "print(\"There are no missing values.\" if not mushrooms.isnull().any().any()\\\n",
    "      else \"There are missing values in the dataframe.\")"
   ]
  },
  {
   "cell_type": "code",
   "execution_count": null,
   "metadata": {},
   "outputs": [],
   "source": [
    "nan_counts = mushrooms.isna().sum()\n",
    "nan_counts[nan_counts > 0]"
   ]
  },
  {
   "cell_type": "code",
   "execution_count": null,
   "metadata": {},
   "outputs": [],
   "source": [
    "edible_count = (mushrooms['class'] == 'e').sum()\n",
    "poisonous_count = mushrooms.shape[0] - edible_count\n",
    "print(f\"Number of edible mushrooms: {edible_count}\\nNumber of poisonous mushrooms: {poisonous_count}\")"
   ]
  },
  {
   "cell_type": "code",
   "execution_count": null,
   "metadata": {},
   "outputs": [],
   "source": [
    "import pandas as pd\n",
    "import numpy as np\n",
    "from UDFs import DecisionTreeClassifier, train_test_partition, accuracy_metric\n",
    "\n",
    "# Load the data\n",
    "mushrooms = pd.read_csv('../data/secondary_data.csv', delimiter = ';')\n",
    "\n",
    "# Encode the target variable as 0-1\n",
    "mushrooms['class'] = mushrooms['class'].map({'e': 0, 'p': 1})\n",
    "\n",
    "# Drop the missing values\n",
    "#mushrooms_1 = mushrooms.dropna(axis=1)\n",
    "\n",
    "# Do not drop the mising values\n",
    "mushrooms_1 = mushrooms.copy()\n",
    "\n",
    "# Create X and y\n",
    "X = mushrooms_1.drop('class', axis=1).values\n",
    "y = mushrooms_1['class'].values\n",
    "\n",
    "# Partition X and y into training and test sets\n",
    "X_train, X_test, y_train, y_test = train_test_partition(X, y, test_size=0.3, random_state=42)\n",
    "\n",
    "# Train the classifier (on the training set)\n",
    "tree = DecisionTreeClassifier(max_depth=100, criterion=\"entropy\", n_features=18, n_quantiles=10)\n",
    "tree.fit(X_train, y_train)\n",
    "\n",
    "# Create predictions (on the test set)\n",
    "y_test_predicted = tree.predict(X_test)\n",
    "\n",
    "# Compute accuracy\n",
    "accuracy = accuracy_metric(y_test, y_test_predicted)\n",
    "print(f\"Accuracy: {accuracy:.2f}\")"
   ]
  },
  {
   "cell_type": "code",
   "execution_count": null,
   "metadata": {},
   "outputs": [],
   "source": []
  }
 ],
 "metadata": {
  "kernelspec": {
   "display_name": "ml-venv",
   "language": "python",
   "name": "python3"
  },
  "language_info": {
   "codemirror_mode": {
    "name": "ipython",
    "version": 3
   },
   "file_extension": ".py",
   "mimetype": "text/x-python",
   "name": "python",
   "nbconvert_exporter": "python",
   "pygments_lexer": "ipython3",
   "version": "3.11.6"
  }
 },
 "nbformat": 4,
 "nbformat_minor": 2
}
