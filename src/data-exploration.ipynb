{
 "cells": [
  {
   "cell_type": "code",
   "execution_count": 13,
   "metadata": {},
   "outputs": [],
   "source": [
    "import os\n",
    "import pandas as pd"
   ]
  },
  {
   "cell_type": "code",
   "execution_count": null,
   "metadata": {},
   "outputs": [],
   "source": [
    "os.getcwd()"
   ]
  },
  {
   "cell_type": "code",
   "execution_count": null,
   "metadata": {},
   "outputs": [],
   "source": [
    "mushrooms = pd.read_csv('../data/secondary_data.csv', delimiter = ';')\n",
    "mushrooms.head()"
   ]
  },
  {
   "cell_type": "code",
   "execution_count": null,
   "metadata": {},
   "outputs": [],
   "source": [
    "mushrooms.dtypes"
   ]
  },
  {
   "cell_type": "code",
   "execution_count": null,
   "metadata": {},
   "outputs": [],
   "source": [
    "n_rows = mushrooms.shape[0]\n",
    "n_columns = mushrooms.shape[1]\n",
    "\n",
    "print(f'There are {n_rows} rows and {n_columns} columns.')"
   ]
  },
  {
   "cell_type": "code",
   "execution_count": null,
   "metadata": {},
   "outputs": [],
   "source": [
    "print(\"There are no missing values.\" if not mushrooms.isnull().any().any()\\\n",
    "      else \"There are missing values in the dataframe.\")"
   ]
  },
  {
   "cell_type": "code",
   "execution_count": null,
   "metadata": {},
   "outputs": [],
   "source": [
    "nan_counts = mushrooms.isna().sum()\n",
    "nan_counts[nan_counts > 0]"
   ]
  },
  {
   "cell_type": "code",
   "execution_count": null,
   "metadata": {},
   "outputs": [],
   "source": [
    "edible_count = (mushrooms['class'] == 'e').sum()\n",
    "poisonous_count = mushrooms.shape[0] - edible_count\n",
    "print(f\"Number of edible mushrooms: {edible_count}\\nNumber of poisonous mushrooms: {poisonous_count}\")"
   ]
  },
  {
   "cell_type": "code",
   "execution_count": null,
   "metadata": {},
   "outputs": [],
   "source": [
    "import pandas as pd\n",
    "import numpy as np\n",
    "from UDFs import DecisionTreeClassifier, compute_accuracy\n",
    "\n",
    "mushrooms = pd.read_csv('../data/secondary_data.csv', delimiter = ';')\n",
    "\n",
    "mushrooms['class'] = mushrooms['class'].map({'e': 0, 'p': 1})\n",
    "\n",
    "mushrooms_1 = mushrooms.dropna(axis=1)\n",
    "\n",
    "X = mushrooms_1.drop('class', axis=1).values\n",
    "y = mushrooms_1['class'].values\n",
    "\n",
    "X[:, 0]"
   ]
  },
  {
   "cell_type": "code",
   "execution_count": 1,
   "metadata": {},
   "outputs": [
    {
     "name": "stdout",
     "output_type": "stream",
     "text": [
      "Fitting the model...\n",
      "Model fitting completed.\n",
      "Predicting labels...\n",
      "Prediction completed.\n",
      "Accuracy: 0.83\n"
     ]
    }
   ],
   "source": [
    "import pandas as pd\n",
    "import numpy as np\n",
    "from UDFs import DecisionTreeClassifier, compute_accuracy\n",
    "\n",
    "mushrooms = pd.read_csv('../data/secondary_data.csv', delimiter = ';')\n",
    "\n",
    "mushrooms['class'] = mushrooms['class'].map({'e': 0, 'p': 1})\n",
    "\n",
    "mushrooms_1 = mushrooms.dropna(axis=1)\n",
    "\n",
    "X = mushrooms_1.drop('class', axis=1).values\n",
    "y = mushrooms_1['class'].values\n",
    "\n",
    "tree = DecisionTreeClassifier(max_depth=10, n_features=5, n_quantiles=5, one_vs_rest=False)\n",
    "tree.fit(X, y)\n",
    "\n",
    "predictions = tree.predict(X)\n",
    "\n",
    "accuracy = compute_accuracy(y, predictions)\n",
    "print(f\"Accuracy: {accuracy:.2f}\")"
   ]
  },
  {
   "cell_type": "code",
   "execution_count": null,
   "metadata": {},
   "outputs": [],
   "source": []
  }
 ],
 "metadata": {
  "kernelspec": {
   "display_name": "ml-venv",
   "language": "python",
   "name": "python3"
  },
  "language_info": {
   "codemirror_mode": {
    "name": "ipython",
    "version": 3
   },
   "file_extension": ".py",
   "mimetype": "text/x-python",
   "name": "python",
   "nbconvert_exporter": "python",
   "pygments_lexer": "ipython3",
   "version": "3.11.6"
  }
 },
 "nbformat": 4,
 "nbformat_minor": 2
}
